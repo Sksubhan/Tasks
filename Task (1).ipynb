{
 "cells": [
  {
   "cell_type": "code",
   "execution_count": 9,
   "id": "67b6f899-5a2d-49fa-8462-eb47bf7ee135",
   "metadata": {},
   "outputs": [
    {
     "name": "stdout",
     "output_type": "stream",
     "text": [
      "{'item1': 50, 'item2': 30, 'item3': 100}\n",
      "50\n"
     ]
    }
   ],
   "source": [
    "input = '{\"item1\": 50, \"item2\": 30, \"item3\": 100}'\n",
    "expression = \"item1 if item1 > 40 else item2\"\n",
    "data=eval(input)\n",
    "print(data)\n",
    "print(eval(expression,{},data))"
   ]
  },
  {
   "cell_type": "code",
   "execution_count": 11,
   "id": "689d93a4-2b36-4c90-b4b5-0a9298bb82d4",
   "metadata": {},
   "outputs": [
    {
     "name": "stdout",
     "output_type": "stream",
     "text": [
      "10\n"
     ]
    }
   ],
   "source": [
    "input = '{\"a\": 4, \"b\": 2, \"c\": 3}'\n",
    "expression = \"a + b * c\"\n",
    "data=eval(input)\n",
    "print(eval(expression,{},data))"
   ]
  },
  {
   "cell_type": "code",
   "execution_count": 13,
   "id": "0eba5fa8-4a47-42d0-a9bc-21448d118044",
   "metadata": {},
   "outputs": [
    {
     "name": "stdout",
     "output_type": "stream",
     "text": [
      "[{'name': 'apple', 'price': 27.0}, {'name': 'banana', 'price': 18.0}, {'name': 'cherry', 'price': 45.0}]\n"
     ]
    }
   ],
   "source": [
    "input = '''[\n",
    "    {\"name\": \"apple\", \"price\": 30},\n",
    "    {\"name\": \"banana\", \"price\": 20},\n",
    "    {\"name\": \"cherry\", \"price\": 50}\n",
    "]'''\n",
    "data=eval(input)\n",
    "expression = \"list(map(lambda x: {'name': x['name'], 'price': round(x['price'] * 0.9, 2)}, data))\"\n",
    "\n",
    "print(eval(expression))"
   ]
  },
  {
   "cell_type": "code",
   "execution_count": 15,
   "id": "ff986255-1fbc-46b4-8d2c-21d56d2c769b",
   "metadata": {},
   "outputs": [
    {
     "name": "stdout",
     "output_type": "stream",
     "text": [
      "Engine started!\n",
      "Started with a roar\n"
     ]
    }
   ],
   "source": [
    "class Car:\n",
    "    def start_engine(self):\n",
    "        print(\"Engine started!\")\n",
    "\n",
    "car=Car()\n",
    "car.start_engine()\n",
    "\n",
    "def Started_roar():\n",
    "    print('Started with a roar')\n",
    "\n",
    "car.start_engine=Started_roar()\n",
    "car.start_engine\n",
    "    "
   ]
  }
 ],
 "metadata": {
  "kernelspec": {
   "display_name": "Python 3 (ipykernel)",
   "language": "python",
   "name": "python3"
  },
  "language_info": {
   "codemirror_mode": {
    "name": "ipython",
    "version": 3
   },
   "file_extension": ".py",
   "mimetype": "text/x-python",
   "name": "python",
   "nbconvert_exporter": "python",
   "pygments_lexer": "ipython3",
   "version": "3.12.4"
  }
 },
 "nbformat": 4,
 "nbformat_minor": 5
}
