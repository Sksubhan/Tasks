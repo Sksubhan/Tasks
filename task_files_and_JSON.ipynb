{
 "cells": [
  {
   "cell_type": "code",
   "execution_count": 1,
   "id": "48ea920a-1859-45a5-b439-4e609f9a378f",
   "metadata": {},
   "outputs": [
    {
     "name": "stdout",
     "output_type": "stream",
     "text": [
      "             pick_up  Unnamed: 1   id\n",
      "0     Hyderabad(HYD)         NaN  HYD\n",
      "1    Vijayawada(VIJ)         NaN  VIJ\n",
      "2     Bangalore(BLR)         NaN  BLR\n",
      "3       Chennai(MAA)         NaN  MAA\n",
      "4        Mumbai(BOM)         NaN  BOM\n",
      "5          Pune(PNQ)         NaN  PNQ\n",
      "6         Delhi(DEL)         NaN  DEL\n",
      "7        Jaipur(JAI)         NaN  JAI\n",
      "8       Kolkata(CCU)         NaN  CCU\n",
      "9   Bhubaneswar(BBI)         NaN  BBI\n",
      "10    Ahmedabad(AMD)         NaN  AMD\n",
      "11        Surat(STV)         NaN  STV\n",
      "12      Lucknow(LKO)         NaN  LKO\n",
      "13       Kanpur(KNU)         NaN  KNU\n",
      "14   Chandigarh(IXC)         NaN  IXC\n",
      "15     Amritsar(ATQ)         NaN  ATQ\n",
      "16   Coimbatore(CJB)         NaN  CJB\n",
      "17      Madurai(IXM)         NaN  IXM\n",
      "18     Guwahati(GAU)         NaN  GAU\n",
      "19        Amaravathi         NaN  AMR\n",
      "20             Vizag         NaN  VZG\n"
     ]
    }
   ],
   "source": [
    "import pandas as pd\n",
    "data=pd.read_csv('cities.csv')  # read cities.csv file \n",
    "new_data = pd.DataFrame([\n",
    "    {'pick_up': 'Amaravathi', 'id': 'AMR'},    # created a bew dataframe to concat with our data\n",
    "    {'pick_up': 'Vizag', 'id': 'VZG'}\n",
    "])\n",
    "data=pd.concat([data,new_data],ignore_index=True)   # concatinated orignial data and new_data\n",
    "print(data)                                                     # new data\n",
    "\n",
    "data.to_csv('Updated_cities.csv')                    # stored updated_data in another csv."
   ]
  },
  {
   "cell_type": "code",
   "execution_count": 3,
   "id": "70cd4199-6a8d-4a5c-8c07-2f8cc5c035fa",
   "metadata": {},
   "outputs": [
    {
     "name": "stdout",
     "output_type": "stream",
     "text": [
      "{'name': 'Adeel Solangi', 'language': 'Sindhi', 'id': 'V59OF92YF627HFY0', 'bio': 'Donec lobortis eleifend condimentum. Cras dictum dolor lacinia lectus vehicula rutrum. Maecenas quis nisi nunc. Nam tristique feugiat est vitae mollis. Maecenas quis nisi nunc.', 'version': 6.1} \n",
      "\n",
      "{'name': 'Afzal Ghaffar', 'language': 'Sindhi', 'id': 'ENTOCR13RSCLZ6KU', 'bio': 'Aliquam sollicitudin ante ligula, eget malesuada nibh efficitur et. Pellentesque massa sem, scelerisque sit amet odio id, cursus tempor urna. Etiam congue dignissim volutpat. Vestibulum pharetra libero et velit gravida euismod.', 'version': 1.88} \n",
      "\n",
      "{'name': 'Aamir Solangi', 'language': 'Sindhi', 'id': 'IAKPO3R4761JDRVG', 'bio': 'Vestibulum pharetra libero et velit gravida euismod. Quisque mauris ligula, efficitur porttitor sodales ac, lacinia non ex. Fusce eu ultrices elit, vel posuere neque.', 'version': 7.27} \n",
      "\n",
      "{'name': 'Adil Abro', 'language': 'Sindhi', 'id': 'LJRIULRNJFCNZJAJ', 'bio': 'Etiam malesuada blandit erat, nec ultricies leo maximus sed. Fusce congue aliquam elit ut luctus. Etiam malesuada blandit erat, nec ultricies leo maximus sed. Cras dictum dolor lacinia lectus vehicula rutrum. Integer vehicula, arcu sit amet egestas efficitur, orci justo interdum massa, eget ullamcorper risus ligula tristique libero.', 'version': 9.32} \n",
      "\n",
      "{'name': 'Awais Shaikh', 'language': 'Sindhi', 'id': 'OJMWMEEQWMLDU29P', 'bio': 'Nunc aliquet sodales nunc a pulvinar. Ut dictum, ligula eget sagittis maximus, tellus mi varius ex, a accumsan justo tellus vitae leo. Donec pellentesque ultrices mi, non consectetur eros luctus non. Nulla finibus massa at viverra facilisis. Nunc tincidunt laoreet laoreet.', 'version': 1.59} \n",
      "\n",
      "{'name': 'Ambreen Ahmed', 'language': 'Sindhi', 'id': '5G646V7E6TJW8X2M', 'bio': 'Vestibulum ante ipsum primis in faucibus orci luctus et ultrices posuere cubilia curae; Etiam consequat enim lorem, at tincidunt velit ultricies et. Ut maximus, libero nec facilisis fringilla, ex sem sollicitudin leo, non congue tortor ligula in eros.', 'version': 2.35} \n",
      "\n",
      "{'name': 'Ali Ayaz', 'language': 'Sindhi', 'id': '3WNLUZ5LT2F7MYVU', 'bio': 'Cras dictum dolor lacinia lectus vehicula rutrum. Vestibulum ante ipsum primis in faucibus orci luctus et ultrices posuere cubilia curae; Etiam consequat enim lorem, at tincidunt velit ultricies et. Etiam malesuada blandit erat, nec ultricies leo maximus sed.', 'version': 7.8} \n",
      "\n",
      "{'name': 'Anita Rajput', 'language': 'Sindhi', 'id': 'XLLVD0NO2ZFEP4AK', 'bio': 'Nam semper gravida nunc, sit amet elementum ipsum. Etiam congue dignissim volutpat.', 'version': 5.16} \n",
      "\n",
      "{'name': 'Ayesha Khalique', 'language': 'Sindhi', 'id': 'Q9A5QNGA0OSU8P6Y', 'bio': 'Morbi vitae nisi lacinia, laoreet lorem nec, egestas orci. Etiam mauris magna, fermentum vitae aliquet eu, cursus vitae sapien.', 'version': 3.9} \n",
      "\n",
      "{'name': 'Shafqat Memon', 'language': 'Sindhi', 'id': 'D8VFLVRXBXMVBRVI', 'bio': 'Aliquam scelerisque pretium tellus, sed accumsan est ultrices id. . Curabitur quis commodo quam. Quisque maximus sodales mauris ut elementum. Quisque mauris ligula, efficitur porttitor sodales ac, lacinia non ex.', 'version': 8.95} \n",
      "\n",
      "{'name': 'Aneela Mohan', 'language': 'Sindhi', 'id': 'CRYN52CXKNJU0YXU', 'bio': 'Sed nec suscipit ligula. Phasellus massa ligula, hendrerit eget efficitur eget, tincidunt in ligula. Maecenas tempus neque ut porttitor malesuada.', 'version': 4.45} \n",
      "\n",
      "{'name': 'Lajwanti Kumari', 'language': 'Sindhi', 'id': 'INRW3R54RAY7J9IS', 'bio': 'In sed ultricies lorem. Sed eu libero maximus nunc lacinia lobortis et sit amet nisi. Quisque mauris ligula, efficitur porttitor sodales ac, lacinia non ex. Lorem ipsum dolor sit amet, consectetur adipiscing elit.', 'version': 9.34} \n",
      "\n",
      "{'name': 'Naseem Kakepoto', 'language': 'Sindhi', 'id': '6C7HZV4WPV9C9KS6', 'bio': 'Morbi ultricies consequat ligula posuere eleifend. Fusce congue aliquam elit ut luctus. . Phasellus massa ligula, hendrerit eget efficitur eget, tincidunt in ligula.', 'version': 1.4} \n",
      "\n",
      "{'name': 'sayama Amir', 'language': 'Sindhi', 'id': '7K4IJT1X7G0EK9WC', 'bio': 'Morbi ac tellus erat. Aliquam scelerisque pretium tellus, sed accumsan est ultrices id. Maecenas quis nisi nunc. Etiam congue dignissim volutpat. Sed nec suscipit ligula.', 'version': 9.48} \n",
      "\n",
      "{'name': 'Sobia Khanam', 'language': 'Sindhi', 'id': 'YG1ERFWBJ7TIW35D', 'bio': 'Phasellus tincidunt sollicitudin posuere. Aliquam scelerisque pretium tellus, sed accumsan est ultrices id. Morbi ultricies consequat ligula posuere eleifend. Curabitur sed condimentum felis, ut luctus eros.', 'version': 4.59} \n",
      "\n",
      "{'name': 'Raheela Ali', 'language': 'Sindhi', 'id': '7JGX9SMLD5DE2IMG', 'bio': 'Morbi finibus dui sed est fringilla ornare. Maecenas quis nisi nunc. Maecenas tempus neque ut porttitor malesuada. Curabitur ultricies id urna nec ultrices.', 'version': 4.75} \n",
      "\n",
      "{'name': 'Rashid Rajput', 'language': 'Sindhi', 'id': 'UNBGUGDUATATCLS4', 'bio': 'Donec congue sapien vel euismod interdum. Maecenas quis nisi nunc.', 'version': 8.51} \n",
      "\n",
      "{'name': 'Sara Saleem', 'language': 'Sindhi', 'id': '5LPKMTZI7OPSJRBA', 'bio': 'Maecenas tempus neque ut porttitor malesuada. Etiam congue dignissim volutpat. Proin tempus eu risus nec mattis. Morbi vitae nisi lacinia, laoreet lorem nec, egestas orci. Duis commodo orci ut dolor iaculis facilisis.', 'version': 5.31} \n",
      "\n",
      "{'name': 'Monica Lohana', 'language': 'Sindhi', 'id': 'KP1C2WN3DN1R3Y52', 'bio': 'Vestibulum ante ipsum primis in faucibus orci luctus et ultrices posuere cubilia curae; Etiam consequat enim lorem, at tincidunt velit ultricies et. Aenean finibus in tortor vel aliquet. Nam laoreet, nunc non suscipit interdum, justo turpis vestibulum massa, non vulputate ex urna at purus. Morbi vitae nisi lacinia, laoreet lorem nec, egestas orci.', 'version': 7.95} \n",
      "\n"
     ]
    }
   ],
   "source": [
    "import json\n",
    "with open('text1.json','r') as file:            # called json file text1.json\n",
    "    data=json.load(file)\n",
    "#print(data)\n",
    "l2=[]\n",
    "def check_dtype(d2):               # function to check dtype of each element in the list and perform transformation\n",
    "    if isinstance(d2,dict):\n",
    "        if d2['language']=='Sindhi':\n",
    "            return d2\n",
    "processed_data=[check_dtype(i) for i in data  if check_dtype(i)]\n",
    "\n",
    "with open('processed_data.json','w') as file:     # dump processed_data into a json file - processed_data.json: get dictionary if language='Sindhi'\n",
    "    json.dump(l2,file)\n",
    "\n",
    "for i in processed_data:           # printed processed_data \n",
    "    print(i,'\\n')\n"
   ]
  },
  {
   "cell_type": "code",
   "execution_count": null,
   "id": "a2bb4cb1-ec8c-4eb2-b24d-da20eba83d29",
   "metadata": {},
   "outputs": [],
   "source": []
  }
 ],
 "metadata": {
  "kernelspec": {
   "display_name": "Python 3 (ipykernel)",
   "language": "python",
   "name": "python3"
  },
  "language_info": {
   "codemirror_mode": {
    "name": "ipython",
    "version": 3
   },
   "file_extension": ".py",
   "mimetype": "text/x-python",
   "name": "python",
   "nbconvert_exporter": "python",
   "pygments_lexer": "ipython3",
   "version": "3.12.4"
  }
 },
 "nbformat": 4,
 "nbformat_minor": 5
}
