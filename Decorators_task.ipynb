{
 "cells": [
  {
   "cell_type": "code",
   "execution_count": 11,
   "id": "a17296a0-112e-4cc9-ad1e-022c279b7a27",
   "metadata": {},
   "outputs": [],
   "source": [
    "# Question 1 "
   ]
  },
  {
   "cell_type": "code",
   "execution_count": 173,
   "id": "3e7c59fd-a01b-461e-982e-b6438a6e9cea",
   "metadata": {},
   "outputs": [
    {
     "name": "stdout",
     "output_type": "stream",
     "text": [
      "Hi Hello\n"
     ]
    }
   ],
   "source": [
    "# 1 --> Closures plays a key role to create a decorator. It helps to invoke base function call. \n",
    "# 2 --> Without a closure function in a decorator we cannot invoke calling base function.\n",
    "# 3 --> Closures also helps to perform certain operation on the function parameters. \n",
    "# 4 --> Where the parameters in this function refers to the parameters of the base function.\n",
    "\n",
    "# Without closure\n",
    "def outer(func):\n",
    "    print('Hi', func())\n",
    "\n",
    "@outer\n",
    "def main():\n",
    "    return 'Hello'  # function called without any user execution."
   ]
  },
  {
   "cell_type": "code",
   "execution_count": 175,
   "id": "f286e2d6-fb28-4b50-a4f7-38821d98b150",
   "metadata": {},
   "outputs": [
    {
     "data": {
      "text/plain": [
       "100"
      ]
     },
     "execution_count": 175,
     "metadata": {},
     "output_type": "execute_result"
    }
   ],
   "source": [
    "# With closure\n",
    "def outer(func):\n",
    "    def inner(x):\n",
    "        res=func(x)**2\n",
    "        return res\n",
    "    return inner\n",
    "\n",
    "@outer\n",
    "def main(a):\n",
    "    return a\n",
    "\n",
    "main(10)  # function will not execute without calling."
   ]
  },
  {
   "cell_type": "code",
   "execution_count": 177,
   "id": "8c87c283-d5bd-444c-9002-de372282aaf2",
   "metadata": {},
   "outputs": [],
   "source": [
    "# Question 2"
   ]
  },
  {
   "cell_type": "code",
   "execution_count": 247,
   "id": "cc9305d2-d5a7-4fdd-a279-cdc131d9f7f7",
   "metadata": {},
   "outputs": [
    {
     "name": "stdout",
     "output_type": "stream",
     "text": [
      "Generated number: 5\n",
      "Attempt 1 failed: Random failure\n",
      "Generated number: 4\n",
      "Attempt 2 failed: Random failure\n",
      "Generated number: 4\n",
      "Attempt 3 failed: Random failure\n",
      "Generated number: 3\n",
      "Attempt 4 failed: Random failure\n",
      "Generated number: 2\n",
      "Attempt 5 failed: Random failure\n",
      "Generated number: 3\n",
      "Attempt 6 failed: Random failure\n",
      "Generated number: 6\n",
      "Attempt 7 failed: Random failure\n",
      "Generated number: 9\n"
     ]
    },
    {
     "data": {
      "text/plain": [
       "'Success!'"
      ]
     },
     "execution_count": 247,
     "metadata": {},
     "output_type": "execute_result"
    }
   ],
   "source": [
    "def retry(retries):\n",
    "    def decorator(func):\n",
    "        def inner():\n",
    "            for attempt in range(1, retries + 1):\n",
    "                try:\n",
    "                    return func()  # Call the original function\n",
    "                except Exception as e:\n",
    "                    print(f\"Attempt {attempt} failed: {e}\")\n",
    "                    if attempt == retries:\n",
    "                        raise Exception(\"Function failed after maximum retries\")\n",
    "        return inner\n",
    "    return decorator\n",
    "@retry(retries=10)\n",
    "def unstable_function():\n",
    "    import random\n",
    "    number = random.randint(1,10)\n",
    "    print(f\"Generated number: {number}\")\n",
    "    if number < 7:\n",
    "        raise ValueError(\"Random failure\")\n",
    "    return \"Success!\"\n",
    "\n",
    "unstable_function()"
   ]
  },
  {
   "cell_type": "code",
   "execution_count": 245,
   "id": "fe6e2fb8-ca3e-4da5-871b-93d2ba06c6a2",
   "metadata": {},
   "outputs": [],
   "source": [
    "# Question 3"
   ]
  },
  {
   "cell_type": "code",
   "execution_count": 181,
   "id": "bb1deff9-1a2a-403d-bbfa-ccda583b7943",
   "metadata": {},
   "outputs": [
    {
     "data": {
      "text/plain": [
       "30"
      ]
     },
     "execution_count": 181,
     "metadata": {},
     "output_type": "execute_result"
    }
   ],
   "source": [
    "def outer(func):\n",
    "    def inner(x):\n",
    "        print(f'\n",
    "        res=func(x)+10\n",
    "        return res\n",
    "    return inner\n",
    "\n",
    "@outer\n",
    "def main(a):\n",
    "    return a\n",
    "\n",
    "main(20)   # will return 20+10 --> 30"
   ]
  },
  {
   "cell_type": "code",
   "execution_count": 183,
   "id": "cb53cb8c-9ee8-4a90-bda9-529554c20c00",
   "metadata": {},
   "outputs": [],
   "source": [
    "# Question 4"
   ]
  },
  {
   "cell_type": "code",
   "execution_count": 185,
   "id": "93f9ef42-f3ca-4586-ab39-fccf775a092b",
   "metadata": {},
   "outputs": [
    {
     "data": {
      "text/plain": [
       "'main Hello executed 3 times'"
      ]
     },
     "execution_count": 185,
     "metadata": {},
     "output_type": "execute_result"
    }
   ],
   "source": [
    "def call_counter(func):\n",
    "    counter=0\n",
    "    def inner():\n",
    "        nonlocal counter\n",
    "        res=func()\n",
    "        counter+=1\n",
    "        return f'{func.__name__} {res} executed {counter} times'\n",
    "    return inner\n",
    "\n",
    "@call_counter\n",
    "def main():\n",
    "    return 'Hello'\n",
    "\n",
    "main()  # output 1\n",
    "main()  # 2\n",
    "main()  # 3\n",
    "\n",
    "# as no.of function calls increases count also increases by one."
   ]
  },
  {
   "cell_type": "code",
   "execution_count": 191,
   "id": "982949e7-ba3e-4917-9ee4-f54cd19bfe12",
   "metadata": {},
   "outputs": [
    {
     "data": {
      "text/plain": [
       "100"
      ]
     },
     "execution_count": 191,
     "metadata": {},
     "output_type": "execute_result"
    }
   ],
   "source": [
    "# Question 5\n",
    "\n",
    "def double_result(func):\n",
    "    def inner(x,y):\n",
    "        res=func(x,y)*2\n",
    "        return res\n",
    "    return inner\n",
    "\n",
    "@double_result\n",
    "def main(a,b):\n",
    "    return a+b\n",
    "\n",
    "main(20,30)  # 20+30 --. 50 . Double of 50 is 100."
   ]
  },
  {
   "cell_type": "code",
   "execution_count": null,
   "id": "aa6befec-13bf-4f56-8935-fa4f60aaac0e",
   "metadata": {},
   "outputs": [],
   "source": [
    "# Question 6"
   ]
  },
  {
   "cell_type": "code",
   "execution_count": 257,
   "id": "53391327-394f-4391-9ac1-b4823584269c",
   "metadata": {},
   "outputs": [
    {
     "data": {
      "text/plain": [
       "60"
      ]
     },
     "execution_count": 257,
     "metadata": {},
     "output_type": "execute_result"
    }
   ],
   "source": [
    "# The decorator near to the base function(outer2) will execute its outer function. And move to another decorator's (outer1) outer function.\n",
    "# Later it will again come to previus decorator function(outer2) to execute its closure, and later outer1's closure.\n",
    "\n",
    "def outer1(func):\n",
    "    def inner(a):\n",
    "        res=func(a)*3   # res = 20*3 --> 60 \n",
    "        return res\n",
    "    return inner\n",
    "\n",
    "def outer2(func):\n",
    "    def inner(b):\n",
    "        res=func(b)*2   # res= 10*2  == 20\n",
    "        return res\n",
    "    return inner\n",
    "\n",
    "@outer1\n",
    "@outer2\n",
    "def main(a):\n",
    "    return a\n",
    "\n",
    "main(10)"
   ]
  },
  {
   "cell_type": "code",
   "execution_count": 259,
   "id": "eb4b4bd5-d32b-4b92-83b6-3f87cd14aa4d",
   "metadata": {},
   "outputs": [],
   "source": [
    "# Question 7"
   ]
  },
  {
   "cell_type": "code",
   "execution_count": 261,
   "id": "64fe7a37-8dbf-4878-9119-2fccd2f6eaba",
   "metadata": {},
   "outputs": [],
   "source": [
    "# Decorators will help us to modify the functionality of the code based upon the requirement.\n",
    "# Decorators are one of the most used type of monkey_patching.\n",
    "# They also make our task easy.\n",
    "# Decorators are hugely used in Unit testing.\n",
    "# We can reuse decorators by calling from another py file."
   ]
  }
 ],
 "metadata": {
  "kernelspec": {
   "display_name": "Python 3 (ipykernel)",
   "language": "python",
   "name": "python3"
  },
  "language_info": {
   "codemirror_mode": {
    "name": "ipython",
    "version": 3
   },
   "file_extension": ".py",
   "mimetype": "text/x-python",
   "name": "python",
   "nbconvert_exporter": "python",
   "pygments_lexer": "ipython3",
   "version": "3.12.4"
  }
 },
 "nbformat": 4,
 "nbformat_minor": 5
}
