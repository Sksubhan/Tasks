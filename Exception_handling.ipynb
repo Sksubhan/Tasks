{
 "cells": [
  {
   "cell_type": "markdown",
   "id": "05f8b0a6-db4b-496a-bff6-b2da013f36cc",
   "metadata": {},
   "source": [
    "### Test case 1 - Handling FileNotFound error"
   ]
  },
  {
   "cell_type": "code",
   "execution_count": 7,
   "id": "2139954e-db80-476f-98c5-32e744723655",
   "metadata": {},
   "outputs": [
    {
     "name": "stdout",
     "output_type": "stream",
     "text": [
      "Error [Errno 2] No such file or directory: 'onlinefoods121232.csv'\n"
     ]
    }
   ],
   "source": [
    "import pandas as pd\n",
    "class Data_reader:\n",
    "    def __init__(self):\n",
    "        self.data_set=None\n",
    "        try:\n",
    "            self.data_set=pd.read_csv('onlinefoods121232.csv')   \n",
    "            print('Data_set created successfully.')\n",
    "            try:\n",
    "                row_number=int(input('Please enter the row number to get income details:'))  #give value above 387 to handle the exception.\n",
    "                print(self.data_set.loc[row_number,'Monthly Income'])\n",
    "            except KeyError as e:\n",
    "                print('Please give the proper column number',e,' is out of range')\n",
    "        \n",
    "        except FileNotFoundError as e:\n",
    "            print('Error',e)                                                 #Exception if dataset is not found.\n",
    "    def read_data(self):\n",
    "        print('Columns in the data_set are : \\n',str(self.data_set.columns)[6:-20])\n",
    "        try:\n",
    "            column_name=input('Enter the column name to get the data:')\n",
    "            print(self.data_set[[column_name,'Age']])                      \n",
    "        except Exception as e:\n",
    "            print('Please give proper column name ,',e)                        # Exception if column name not found.\n",
    "            \n",
    "\n",
    "obj=Data_reader()\n",
    "if obj.data_set is not None:\n",
    "    obj.read_data()"
   ]
  },
  {
   "cell_type": "markdown",
   "id": "bed61a90-88d0-40f5-a427-86de2bd5000b",
   "metadata": {},
   "source": [
    "### Testcase 2 - Handling exception by given row_number more than the dataset size"
   ]
  },
  {
   "cell_type": "code",
   "execution_count": 9,
   "id": "25c93038-60c0-4255-b406-952417cf7b1f",
   "metadata": {},
   "outputs": [
    {
     "name": "stdout",
     "output_type": "stream",
     "text": [
      "Data_set created successfully.\n"
     ]
    },
    {
     "name": "stdin",
     "output_type": "stream",
     "text": [
      "Please enter the row number to get income details: 400\n"
     ]
    },
    {
     "name": "stdout",
     "output_type": "stream",
     "text": [
      "Please give the proper column number 400  is out of range\n"
     ]
    }
   ],
   "source": [
    "import pandas as pd\n",
    "class Data_reader:\n",
    "    def __init__(self):\n",
    "        self.data_set=None\n",
    "        try:\n",
    "            self.data_set=pd.read_csv('onlinefoods.csv')   \n",
    "            print('Data_set created successfully.')\n",
    "            try:\n",
    "                row_number=int(input('Please enter the row number to get income details:'))  #give value above 387 to handle the exception.\n",
    "                print(self.data_set.loc[row_number,'Monthly Income'])\n",
    "            except KeyError as e:\n",
    "                print('Please give the proper column number',e,' is out of range')\n",
    "        \n",
    "        except FileNotFoundError as e:\n",
    "            print('Error',e)                                                 #Exception if dataset is not found.\n",
    "    def read_data(self):\n",
    "        print('Columns in the data_set are : \\n',str(self.data_set.columns)[6:-20])\n",
    "        try:\n",
    "            column_name=input('Enter the column name to get the data:')\n",
    "            print(self.data_set[[column_name,'Age']])                      \n",
    "        except Exception as e:\n",
    "            print('Please give proper column name ,',e)                        # Exception if column name not found.\n",
    "            \n",
    "\n",
    "obj=Data_reader()"
   ]
  },
  {
   "cell_type": "markdown",
   "id": "82b9e2dc-aefd-49ed-aa81-504f3e33deb2",
   "metadata": {},
   "source": [
    "### Testcase 3 - Exception handling by giving wrong column name"
   ]
  },
  {
   "cell_type": "code",
   "execution_count": 11,
   "id": "8eadefac-a7d6-4032-981a-ad503313f45d",
   "metadata": {},
   "outputs": [
    {
     "name": "stdout",
     "output_type": "stream",
     "text": [
      "Data_set created successfully.\n"
     ]
    },
    {
     "name": "stdin",
     "output_type": "stream",
     "text": [
      "Please enter the row number to get income details: 5\n"
     ]
    },
    {
     "name": "stdout",
     "output_type": "stream",
     "text": [
      "More than 50000\n",
      "Columns in the data_set are : \n",
      " ['Age', 'Gender', 'Marital Status', 'Occupation', 'Monthly Income',\n",
      "       'Educational Qualifications', 'Family size', 'latitude', 'longitude',\n",
      "       'Pin code', 'Output', 'Feedback', 'Unnamed: 12'],\n",
      " \n"
     ]
    },
    {
     "name": "stdin",
     "output_type": "stream",
     "text": [
      "Enter the column name to get the data: address\n"
     ]
    },
    {
     "name": "stdout",
     "output_type": "stream",
     "text": [
      "Please give proper column name , \"['address'] not in index\"\n"
     ]
    }
   ],
   "source": [
    "import pandas as pd\n",
    "class Data_reader:\n",
    "    def __init__(self):\n",
    "        self.data_set=None\n",
    "        try:\n",
    "            self.data_set=pd.read_csv('onlinefoods.csv')   \n",
    "            print('Data_set created successfully.')\n",
    "            try:\n",
    "                row_number=int(input('Please enter the row number to get income details:'))  #give value above 387 to handle the exception.\n",
    "                print(self.data_set.loc[row_number,'Monthly Income'])\n",
    "            except KeyError as e:\n",
    "                print('Please give the proper column number',e,' is out of range')\n",
    "        \n",
    "        except FileNotFoundError as e:\n",
    "            print('Error',e)                                                 #Exception if dataset is not found.\n",
    "    def read_data(self):\n",
    "        print('Columns in the data_set are : \\n',str(self.data_set.columns)[6:-20])\n",
    "        try:\n",
    "            column_name=input('Enter the column name to get the data:')\n",
    "            print(self.data_set[[column_name,'Age']])                      \n",
    "        except Exception as e:\n",
    "            print('Please give proper column name ,',e)                        # Exception if column name not found.\n",
    "            \n",
    "\n",
    "obj=Data_reader()\n",
    "if obj.data_set is not None:\n",
    "    obj.read_data()"
   ]
  },
  {
   "cell_type": "markdown",
   "id": "3c71b022-a150-47ac-9ca0-de805696ba65",
   "metadata": {},
   "source": [
    "### Test case 4"
   ]
  },
  {
   "cell_type": "code",
   "execution_count": 15,
   "id": "431792df-b6fd-4c6f-a1b7-72eeab5f413b",
   "metadata": {},
   "outputs": [
    {
     "name": "stdout",
     "output_type": "stream",
     "text": [
      "Data_set created successfully.\n"
     ]
    },
    {
     "name": "stdin",
     "output_type": "stream",
     "text": [
      "Please enter the row number to get income details: 45\n"
     ]
    },
    {
     "name": "stdout",
     "output_type": "stream",
     "text": [
      "10001 to 25000\n",
      "Columns in the data_set are : \n",
      " ['Age', 'Gender', 'Marital Status', 'Occupation', 'Monthly Income',\n",
      "       'Educational Qualifications', 'Family size', 'latitude', 'longitude',\n",
      "       'Pin code', 'Output', 'Feedback', 'Unnamed: 12'],\n",
      " \n"
     ]
    },
    {
     "name": "stdin",
     "output_type": "stream",
     "text": [
      "Enter the column name to get the data: Occupation\n"
     ]
    },
    {
     "name": "stdout",
     "output_type": "stream",
     "text": [
      "    Occupation  Age\n",
      "0      Student   20\n",
      "1      Student   24\n",
      "2      Student   22\n",
      "3      Student   22\n",
      "4      Student   22\n",
      "..         ...  ...\n",
      "383    Student   23\n",
      "384    Student   23\n",
      "385    Student   22\n",
      "386    Student   23\n",
      "387    Student   23\n",
      "\n",
      "[388 rows x 2 columns]\n"
     ]
    }
   ],
   "source": [
    "import pandas as pd\n",
    "class Data_reader:\n",
    "    def __init__(self):\n",
    "        self.data_set=None\n",
    "        try:\n",
    "            self.data_set=pd.read_csv('onlinefoods.csv')   \n",
    "            print('Data_set created successfully.')\n",
    "            try:\n",
    "                row_number=int(input('Please enter the row number to get income details:'))  #give value above 387 to handle the exception.\n",
    "                print(self.data_set.loc[row_number,'Monthly Income'])\n",
    "            except KeyError as e:\n",
    "                print('Please give the proper column number',e,' is out of range')\n",
    "        \n",
    "        except FileNotFoundError as e:\n",
    "            print('Error',e)                                                 #Exception if dataset is not found.\n",
    "    def read_data(self):\n",
    "        print('Columns in the data_set are : \\n',str(self.data_set.columns)[6:-20])\n",
    "        try:\n",
    "            column_name=input('Enter the column name to get the data:')\n",
    "            print(self.data_set[[column_name,'Age']])                      \n",
    "        except Exception as e:\n",
    "            print('Please give proper column name ,',e)                        # Exception if column name not found.\n",
    "            \n",
    "\n",
    "obj=Data_reader()\n",
    "if obj.data_set is not None:\n",
    "    obj.read_data()"
   ]
  }
 ],
 "metadata": {
  "kernelspec": {
   "display_name": "Python 3 (ipykernel)",
   "language": "python",
   "name": "python3"
  },
  "language_info": {
   "codemirror_mode": {
    "name": "ipython",
    "version": 3
   },
   "file_extension": ".py",
   "mimetype": "text/x-python",
   "name": "python",
   "nbconvert_exporter": "python",
   "pygments_lexer": "ipython3",
   "version": "3.12.4"
  }
 },
 "nbformat": 4,
 "nbformat_minor": 5
}
