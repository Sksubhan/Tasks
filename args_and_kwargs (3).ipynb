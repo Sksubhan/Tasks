{
 "cells": [
  {
   "cell_type": "code",
   "execution_count": 28,
   "id": "7efd346d-67a9-4620-b2b2-d1702f04a61e",
   "metadata": {},
   "outputs": [],
   "source": [
    "import emoji\n",
    "def args_example(*items):\n",
    "    if len(items)>0:\n",
    "        total=0\n",
    "        delivery_charges=50\n",
    "        print('Items:')\n",
    "        for data in items:\n",
    "            print(f'{data[0]}: ${data[1]} x {data[2]} = {data[1]*data[2]}')\n",
    "            total+=data[1]*data[2]\n",
    "        print('Subtotal : $',total)\n",
    "        discount=total*0.1\n",
    "        print(f'Discount (10%): -${discount}')\n",
    "        print('Promo Code (''SAVE10''): -$10')\n",
    "        if total>500:\n",
    "            delivery_charges=0\n",
    "            print(f'Free Delivery !!!!!!!  \\N{winking face}')\n",
    "        else:\n",
    "            print(f'Shop for ${500-((total-discount)-10)} more to get free delivery')\n",
    "            \n",
    "        print(f'Total: ${((total-discount)-10)+delivery_charges}')\n",
    "    else:\n",
    "        print(f'Your cart is emplty. Shop to grab huge discount today !!  \\N{zipper-mouth face}')\n",
    "    print()\n",
    "    "
   ]
  },
  {
   "cell_type": "code",
   "execution_count": 30,
   "id": "7dcea583-ed84-453f-b0b8-c7baa843b546",
   "metadata": {},
   "outputs": [
    {
     "name": "stdout",
     "output_type": "stream",
     "text": [
      "Items:\n",
      "Laptop: $1000 x 1 = 1000\n",
      "Mouse: $20 x 2 = 40\n",
      "Keyboard: $50 x 1 = 50\n",
      "Subtotal : $ 1090\n",
      "Discount (10%): -$109.0\n",
      "Promo Code (SAVE10): -$10\n",
      "Free Delivery !!!!!!!  😉\n",
      "Total: $971.0\n",
      "\n"
     ]
    }
   ],
   "source": [
    "args_example((\"Laptop\", 1000, 1), (\"Mouse\", 20, 2), (\"Keyboard\", 50, 1))"
   ]
  },
  {
   "cell_type": "code",
   "execution_count": 32,
   "id": "22280a8b-6610-4592-bcdb-91b88c3808c9",
   "metadata": {},
   "outputs": [
    {
     "name": "stdout",
     "output_type": "stream",
     "text": [
      "Items:\n",
      "Laptop: $1200 x 2 = 2400\n",
      "Mouse: $25 x 3 = 75\n",
      "Keyboard: $55 x 2 = 110\n",
      "Subtotal : $ 2585\n",
      "Discount (10%): -$258.5\n",
      "Promo Code (SAVE10): -$10\n",
      "Free Delivery !!!!!!!  😉\n",
      "Total: $2316.5\n",
      "\n"
     ]
    }
   ],
   "source": [
    "args_example(\n",
    "    (\"Laptop\", 1200, 2),\n",
    "    (\"Mouse\", 25, 3),\n",
    "    (\"Keyboard\", 55, 2)\n",
    ")\n",
    "\n",
    "\n"
   ]
  },
  {
   "cell_type": "code",
   "execution_count": 34,
   "id": "a20b1101-96da-4811-9589-6400981e91e7",
   "metadata": {},
   "outputs": [
    {
     "name": "stdout",
     "output_type": "stream",
     "text": [
      "Items:\n",
      "Monitor: $30 x 1 = 30\n",
      "Headphones: $5 x 4 = 20\n",
      "Tablet: $500 x 1 = 500\n",
      "Subtotal : $ 550\n",
      "Discount (10%): -$55.0\n",
      "Promo Code (SAVE10): -$10\n",
      "Free Delivery !!!!!!!  😉\n",
      "Total: $485.0\n",
      "\n"
     ]
    }
   ],
   "source": [
    "args_example(\n",
    "    (\"Monitor\", 30, 1),\n",
    "    (\"Headphones\", 5, 4),\n",
    "    (\"Tablet\", 500, 1)\n",
    ")\n",
    "\n"
   ]
  },
  {
   "cell_type": "code",
   "execution_count": 36,
   "id": "966e68d7-f942-4fc9-9127-a748e7abf13e",
   "metadata": {},
   "outputs": [
    {
     "name": "stdout",
     "output_type": "stream",
     "text": [
      "Your cart is emplty. Shop to grab huge discount today !!  🤐\n",
      "\n"
     ]
    }
   ],
   "source": [
    "args_example()   # if there are no items in the cart."
   ]
  },
  {
   "cell_type": "code",
   "execution_count": 40,
   "id": "8dc18e1d-ed49-4dea-81b4-9b3957953dcf",
   "metadata": {},
   "outputs": [
    {
     "name": "stdout",
     "output_type": "stream",
     "text": [
      "Items:\n",
      "Printer: $15 x 2 = 30\n",
      "Webcam: $60 x 1 = 60\n",
      "Microphone: $10 x 3 = 30\n",
      "Subtotal : $ 120\n",
      "Discount (10%): -$12.0\n",
      "Promo Code (SAVE10): -$10\n",
      "Shop for $402.0 more to get free delivery\n",
      "Total: $148.0\n",
      "\n"
     ]
    }
   ],
   "source": [
    "args_example(\n",
    "    (\"Printer\", 15, 2),\n",
    "    (\"Webcam\", 60, 1),\n",
    "    (\"Microphone\", 10, 3)\n",
    ")\n",
    "\n"
   ]
  },
  {
   "cell_type": "code",
   "execution_count": 42,
   "id": "ac4a2070-54d8-4cf4-93e8-bc32b0889c9c",
   "metadata": {},
   "outputs": [
    {
     "name": "stdout",
     "output_type": "stream",
     "text": [
      "Items:\n",
      "External Hard Drive: $80 x 2 = 160\n",
      "Router: $120 x 1 = 120\n",
      "Subtotal : $ 280\n",
      "Discount (10%): -$28.0\n",
      "Promo Code (SAVE10): -$10\n",
      "Shop for $258.0 more to get free delivery\n",
      "Total: $292.0\n",
      "\n"
     ]
    }
   ],
   "source": [
    "args_example(\n",
    "    (\"External Hard Drive\", 80, 2),\n",
    "    (\"Router\", 120, 1)\n",
    ")\n"
   ]
  },
  {
   "cell_type": "code",
   "execution_count": 44,
   "id": "262ef1c4-29c4-475f-89eb-161c189a7cbc",
   "metadata": {},
   "outputs": [
    {
     "name": "stdout",
     "output_type": "stream",
     "text": [
      "Items:\n",
      "Smartphone: $900 x 1 = 900\n",
      "Charger: $20 x 3 = 60\n",
      "Speaker: $200 x 2 = 400\n",
      "Subtotal : $ 1360\n",
      "Discount (10%): -$136.0\n",
      "Promo Code (SAVE10): -$10\n",
      "Free Delivery !!!!!!!  😉\n",
      "Total: $1214.0\n",
      "\n"
     ]
    }
   ],
   "source": [
    "args_example(\n",
    "    (\"Smartphone\", 900, 1),\n",
    "    (\"Charger\", 20, 3),\n",
    "    (\"Speaker\", 200, 2)\n",
    ")"
   ]
  },
  {
   "cell_type": "code",
   "execution_count": null,
   "id": "b36d097f-374c-4099-b8f2-1ae31f7e4925",
   "metadata": {},
   "outputs": [],
   "source": []
  }
 ],
 "metadata": {
  "kernelspec": {
   "display_name": "Python 3 (ipykernel)",
   "language": "python",
   "name": "python3"
  },
  "language_info": {
   "codemirror_mode": {
    "name": "ipython",
    "version": 3
   },
   "file_extension": ".py",
   "mimetype": "text/x-python",
   "name": "python",
   "nbconvert_exporter": "python",
   "pygments_lexer": "ipython3",
   "version": "3.12.4"
  }
 },
 "nbformat": 4,
 "nbformat_minor": 5
}
