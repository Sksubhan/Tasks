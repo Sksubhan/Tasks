{
 "cells": [
  {
   "cell_type": "code",
   "execution_count": 1,
   "id": "5b13ea12-5b77-4244-b333-eacf1193917e",
   "metadata": {},
   "outputs": [
    {
     "name": "stdout",
     "output_type": "stream",
     "text": [
      "22\n"
     ]
    }
   ],
   "source": [
    "data = [\n",
    "    {\"name\": \"john doe\", \"email\": \"JOHN@example.com\", \"phone_number\": \"123-456-7890\", \"address\": \"123 Main St, New York, NY 10001\"},\n",
    "    {\"name\": \"jane smith\", \"email\": \"Jane.Smith@Email.com\", \"phone_number\": \"(123) 456 7890\", \"address\": \"456 Elm St, Los Angeles, CA 90001\"},\n",
    "    {\"name\": \"john doe\", \"email\": \"john@example.com\", \"phone_number\": \"1234567890\", \"address\": \"123 Main St, New York, NY 10001\"},\n",
    "    {\"name\": \"emma brown\", \"email\": \"emma_brown@hotmail.com\", \"phone_number\": \"+1 321-654-9870\", \"address\": \"789 Pine Ave, Chicago, IL 60601\"},\n",
    "    {\"name\": \"liam jones\", \"email\": \"liam.j@domain.org\", \"phone_number\": \"(321) 654 9870\", \"address\": \"321 Oak St, Houston, TX 77001\"},\n",
    "    {\"name\": \"olivia johnson\", \"email\": \"olivia.johnson@gmail.com\", \"phone_number\": \"3216549870\", \"address\": \"654 Maple Dr, Miami, FL 33101\"},\n",
    "    {\"name\": \"noah williams\", \"email\": \"noah.williams@yahoo.com\", \"phone_number\": \"987-654-3210\", \"address\": \"987 Cedar St, Seattle, WA 98101\"},\n",
    "    {\"name\": \"ava taylor\", \"email\": \"ava.t@company.com\", \"phone_number\": \"(987) 654 3210\", \"address\": \"654 Birch Rd, Boston, MA 02101\"},\n",
    "    {\"name\": \"sophia harris\", \"email\": \"sophia.harris@email.org\", \"phone_number\": \"+1 (789) 456-1230\", \"address\": \"123 Aspen Ln, Denver, CO 80201\"},\n",
    "    {\"name\": \"william moore\", \"email\": \"william.moore@service.net\", \"phone_number\": \"789-456-1230\", \"address\": \"456 Willow Way, San Francisco, CA 94101\"},\n",
    "    {\"name\": \"isabella white\", \"email\": \"isabella.white@gmail.com\", \"phone_number\": \"4567891230\", \"address\": \"789 Cypress Ct, Portland, OR 97201\"},\n",
    "    {\"name\": \"james thomas\", \"email\": \"james.thomas@email.com\", \"phone_number\": \"456-789-1230\", \"address\": \"123 Redwood Ave, Austin, TX 73301\"},\n",
    "    {\"name\": \"mia martin\", \"email\": \"mia.martin@domain.com\", \"phone_number\": \"+1 456-789-1230\", \"address\": \"456 Spruce St, Atlanta, GA 30301\"},\n",
    "    {\"name\": \"Emily Davis\", \"email\": \"emily.davis@sample.com\", \"phone_number\": \"987-654-3210\", \"address\": \"789 Pine St, Chicago, IL 60601\"},\n",
    "    {\"name\": \"john doe\", \"email\": \"JOHN@example.com\", \"phone_number\": \"+1-123-456-7890\", \"address\": \"123 Main St, New York, NY 10001\"},  \n",
    "    {\"name\": \"Michael Brown\", \"email\": \"michael_brown@domain.com\", \"phone_number\": \"9876543210\", \"address\": \"101 Oak St, Houston, TX 77001\"},\n",
    "    {\"name\": \"Jane Smith\", \"email\": \"jane.smith@email.com\", \"phone_number\": \"123.456.7890\", \"address\": \"456 Elm St, Los Angeles, CA 90001\"},  \n",
    "    {\"name\": \"Anna Taylor\", \"email\": \"annataylor@example.org\", \"phone_number\": \"456-789-1234\", \"address\": \"202 Maple St, Phoenix, AZ 85001\"},\n",
    "    {\"name\": \"Chris Green\", \"email\": \"chris.green@domain.com\", \"phone_number\": \"+1 (456) 789-1234\", \"address\": \"303 Birch St, Miami, FL 33101\"},\n",
    "    {\"name\": \"Michael Brown\", \"email\": \"michael_brown@DOMAIN.com\", \"phone_number\": \"9876543210\", \"address\": \"101 Oak St, Houston, TX 77001\"},\n",
    "    {\"name\": \"john doe\", \"email\": \"JOHN@example.com\", \"phone_number\": \"123-456-7890\", \"address\": \"123 Main St, New York, NY 10001\"},\n",
    "    {\"name\": \"john doe\", \"email\": \"JOHN@example.com\", \"phone_number\": \"+1-123-456-7890\", \"address\": \"123 Main St, New York, NY 10001\"}\n",
    "]\n",
    "print(len(data))"
   ]
  },
  {
   "cell_type": "code",
   "execution_count": 3,
   "id": "ea80e4d8-dca2-4f5b-87b4-2054458d1ade",
   "metadata": {},
   "outputs": [
    {
     "name": "stdout",
     "output_type": "stream",
     "text": [
      "{'name': 'john doe', 'email': 'JOHN@example.com', 'phone_number': '123-456-7890', 'address': '123 Main St, New York, NY 10001'}\n",
      "{'name': 'jane smith', 'email': 'Jane.Smith@Email.com', 'phone_number': '(123) 456 7890', 'address': '456 Elm St, Los Angeles, CA 90001'}\n",
      "{'name': 'john doe', 'email': 'john@example.com', 'phone_number': '1234567890', 'address': '123 Main St, New York, NY 10001'}\n",
      "{'name': 'emma brown', 'email': 'emma_brown@hotmail.com', 'phone_number': '+1 321-654-9870', 'address': '789 Pine Ave, Chicago, IL 60601'}\n",
      "{'name': 'liam jones', 'email': 'liam.j@domain.org', 'phone_number': '(321) 654 9870', 'address': '321 Oak St, Houston, TX 77001'}\n",
      "{'name': 'olivia johnson', 'email': 'olivia.johnson@gmail.com', 'phone_number': '3216549870', 'address': '654 Maple Dr, Miami, FL 33101'}\n",
      "{'name': 'noah williams', 'email': 'noah.williams@yahoo.com', 'phone_number': '987-654-3210', 'address': '987 Cedar St, Seattle, WA 98101'}\n",
      "{'name': 'ava taylor', 'email': 'ava.t@company.com', 'phone_number': '(987) 654 3210', 'address': '654 Birch Rd, Boston, MA 02101'}\n",
      "{'name': 'sophia harris', 'email': 'sophia.harris@email.org', 'phone_number': '+1 (789) 456-1230', 'address': '123 Aspen Ln, Denver, CO 80201'}\n",
      "{'name': 'william moore', 'email': 'william.moore@service.net', 'phone_number': '789-456-1230', 'address': '456 Willow Way, San Francisco, CA 94101'}\n",
      "{'name': 'isabella white', 'email': 'isabella.white@gmail.com', 'phone_number': '4567891230', 'address': '789 Cypress Ct, Portland, OR 97201'}\n",
      "{'name': 'james thomas', 'email': 'james.thomas@email.com', 'phone_number': '456-789-1230', 'address': '123 Redwood Ave, Austin, TX 73301'}\n",
      "{'name': 'mia martin', 'email': 'mia.martin@domain.com', 'phone_number': '+1 456-789-1230', 'address': '456 Spruce St, Atlanta, GA 30301'}\n",
      "{'name': 'Emily Davis', 'email': 'emily.davis@sample.com', 'phone_number': '987-654-3210', 'address': '789 Pine St, Chicago, IL 60601'}\n",
      "{'name': 'john doe', 'email': 'JOHN@example.com', 'phone_number': '+1-123-456-7890', 'address': '123 Main St, New York, NY 10001'}\n",
      "{'name': 'Michael Brown', 'email': 'michael_brown@domain.com', 'phone_number': '9876543210', 'address': '101 Oak St, Houston, TX 77001'}\n",
      "{'name': 'Jane Smith', 'email': 'jane.smith@email.com', 'phone_number': '123.456.7890', 'address': '456 Elm St, Los Angeles, CA 90001'}\n",
      "{'name': 'Anna Taylor', 'email': 'annataylor@example.org', 'phone_number': '456-789-1234', 'address': '202 Maple St, Phoenix, AZ 85001'}\n",
      "{'name': 'Chris Green', 'email': 'chris.green@domain.com', 'phone_number': '+1 (456) 789-1234', 'address': '303 Birch St, Miami, FL 33101'}\n",
      "{'name': 'Michael Brown', 'email': 'michael_brown@DOMAIN.com', 'phone_number': '9876543210', 'address': '101 Oak St, Houston, TX 77001'}\n"
     ]
    }
   ],
   "source": [
    "uniq_data = list({frozenset(i.items()) :    # used froxenset to make unique data.\n",
    "            i for i in data}.values())\n",
    "for i in uniq_data:\n",
    "    print(i)"
   ]
  },
  {
   "cell_type": "code",
   "execution_count": 5,
   "id": "e0ba0d51-e533-4040-b389-8e2318049936",
   "metadata": {},
   "outputs": [
    {
     "name": "stdout",
     "output_type": "stream",
     "text": [
      "{'name': 'John doe', 'email': 'john@example.com', 'phone_number': '(123) 456-7890', 'address': '123 Main St, New York, NY 10001'}\n",
      "{'name': 'Jane smith', 'email': 'jane.smith@email.com', 'phone_number': '(123) 456-7890', 'address': '456 Elm St, Los Angeles, CA 90001'}\n",
      "{'name': 'John doe', 'email': 'john@example.com', 'phone_number': '(123) 456-7890', 'address': '123 Main St, New York, NY 10001'}\n",
      "{'name': 'Emma brown', 'email': 'emma_brown@hotmail.com', 'phone_number': '(132) 165-49870', 'address': '789 Pine Ave, Chicago, IL 60601'}\n",
      "{'name': 'Liam jones', 'email': 'liam.j@domain.org', 'phone_number': '(321) 654-9870', 'address': '321 Oak St, Houston, TX 77001'}\n",
      "{'name': 'Olivia johnson', 'email': 'olivia.johnson@gmail.com', 'phone_number': '(321) 654-9870', 'address': '654 Maple Dr, Miami, FL 33101'}\n",
      "{'name': 'Noah williams', 'email': 'noah.williams@yahoo.com', 'phone_number': '(987) 654-3210', 'address': '987 Cedar St, Seattle, WA 98101'}\n",
      "{'name': 'Ava taylor', 'email': 'ava.t@company.com', 'phone_number': '(987) 654-3210', 'address': '654 Birch Rd, Boston, MA 02101'}\n",
      "{'name': 'Sophia harris', 'email': 'sophia.harris@email.org', 'phone_number': '(178) 945-61230', 'address': '123 Aspen Ln, Denver, CO 80201'}\n",
      "{'name': 'William moore', 'email': 'william.moore@service.net', 'phone_number': '(789) 456-1230', 'address': '456 Willow Way, San Francisco, CA 94101'}\n",
      "{'name': 'Isabella white', 'email': 'isabella.white@gmail.com', 'phone_number': '(456) 789-1230', 'address': '789 Cypress Ct, Portland, OR 97201'}\n",
      "{'name': 'James thomas', 'email': 'james.thomas@email.com', 'phone_number': '(456) 789-1230', 'address': '123 Redwood Ave, Austin, TX 73301'}\n",
      "{'name': 'Mia martin', 'email': 'mia.martin@domain.com', 'phone_number': '(145) 678-91230', 'address': '456 Spruce St, Atlanta, GA 30301'}\n",
      "{'name': 'Emily davis', 'email': 'emily.davis@sample.com', 'phone_number': '(987) 654-3210', 'address': '789 Pine St, Chicago, IL 60601'}\n",
      "{'name': 'John doe', 'email': 'john@example.com', 'phone_number': '(112) 345-67890', 'address': '123 Main St, New York, NY 10001'}\n",
      "{'name': 'Michael brown', 'email': 'michael_brown@domain.com', 'phone_number': '(987) 654-3210', 'address': '101 Oak St, Houston, TX 77001'}\n",
      "{'name': 'Jane smith', 'email': 'jane.smith@email.com', 'phone_number': '(123) 456-7890', 'address': '456 Elm St, Los Angeles, CA 90001'}\n",
      "{'name': 'Anna taylor', 'email': 'annataylor@example.org', 'phone_number': '(456) 789-1234', 'address': '202 Maple St, Phoenix, AZ 85001'}\n",
      "{'name': 'Chris green', 'email': 'chris.green@domain.com', 'phone_number': '(145) 678-91234', 'address': '303 Birch St, Miami, FL 33101'}\n",
      "{'name': 'Michael brown', 'email': 'michael_brown@domain.com', 'phone_number': '(987) 654-3210', 'address': '101 Oak St, Houston, TX 77001'}\n"
     ]
    }
   ],
   "source": [
    "import re\n",
    "def mobile_number(n):\n",
    "    n = re.sub(r'\\D', '', n)\n",
    "    formatted_phone = re.sub(r'(\\d{3})(\\d{3})(\\d{4})', r'(\\1) \\2-\\3', n)\n",
    "    return formatted_phone\n",
    "for i in uniq_data:\n",
    "    i['name']=i['name'].capitalize()\n",
    "    i['email']=i['email'].lower()\n",
    "    i['phone_number']=mobile_number(i['phone_number'])\n",
    "    print(i)\n"
   ]
  },
  {
   "cell_type": "code",
   "execution_count": 7,
   "id": "02e2b2ff-965d-42c9-b00b-08a2598e964d",
   "metadata": {},
   "outputs": [
    {
     "name": "stdout",
     "output_type": "stream",
     "text": [
      "{'name': 'John doe', 'email': 'john@example.com', 'phone_number': '(123) 456-7890', 'address': '123 Main St, New York, NY 10001', 'City': '123 Main St', 'State': ' New York', 'abbrevation': 'NY', 'zipcode': '10001'}\n",
      "{'name': 'Jane smith', 'email': 'jane.smith@email.com', 'phone_number': '(123) 456-7890', 'address': '456 Elm St, Los Angeles, CA 90001', 'City': '456 Elm St', 'State': ' Los Angeles', 'abbrevation': 'CA', 'zipcode': '90001'}\n",
      "{'name': 'John doe', 'email': 'john@example.com', 'phone_number': '(123) 456-7890', 'address': '123 Main St, New York, NY 10001', 'City': '123 Main St', 'State': ' New York', 'abbrevation': 'NY', 'zipcode': '10001'}\n",
      "{'name': 'Emma brown', 'email': 'emma_brown@hotmail.com', 'phone_number': '(132) 165-49870', 'address': '789 Pine Ave, Chicago, IL 60601', 'City': '789 Pine Ave', 'State': ' Chicago', 'abbrevation': 'IL', 'zipcode': '60601'}\n",
      "{'name': 'Liam jones', 'email': 'liam.j@domain.org', 'phone_number': '(321) 654-9870', 'address': '321 Oak St, Houston, TX 77001', 'City': '321 Oak St', 'State': ' Houston', 'abbrevation': 'TX', 'zipcode': '77001'}\n",
      "{'name': 'Olivia johnson', 'email': 'olivia.johnson@gmail.com', 'phone_number': '(321) 654-9870', 'address': '654 Maple Dr, Miami, FL 33101', 'City': '654 Maple Dr', 'State': ' Miami', 'abbrevation': 'FL', 'zipcode': '33101'}\n",
      "{'name': 'Noah williams', 'email': 'noah.williams@yahoo.com', 'phone_number': '(987) 654-3210', 'address': '987 Cedar St, Seattle, WA 98101', 'City': '987 Cedar St', 'State': ' Seattle', 'abbrevation': 'WA', 'zipcode': '98101'}\n",
      "{'name': 'Ava taylor', 'email': 'ava.t@company.com', 'phone_number': '(987) 654-3210', 'address': '654 Birch Rd, Boston, MA 02101', 'City': '654 Birch Rd', 'State': ' Boston', 'abbrevation': 'MA', 'zipcode': '02101'}\n",
      "{'name': 'Sophia harris', 'email': 'sophia.harris@email.org', 'phone_number': '(178) 945-61230', 'address': '123 Aspen Ln, Denver, CO 80201', 'City': '123 Aspen Ln', 'State': ' Denver', 'abbrevation': 'CO', 'zipcode': '80201'}\n",
      "{'name': 'William moore', 'email': 'william.moore@service.net', 'phone_number': '(789) 456-1230', 'address': '456 Willow Way, San Francisco, CA 94101', 'City': '456 Willow Way', 'State': ' San Francisco', 'abbrevation': 'CA', 'zipcode': '94101'}\n",
      "{'name': 'Isabella white', 'email': 'isabella.white@gmail.com', 'phone_number': '(456) 789-1230', 'address': '789 Cypress Ct, Portland, OR 97201', 'City': '789 Cypress Ct', 'State': ' Portland', 'abbrevation': 'OR', 'zipcode': '97201'}\n",
      "{'name': 'James thomas', 'email': 'james.thomas@email.com', 'phone_number': '(456) 789-1230', 'address': '123 Redwood Ave, Austin, TX 73301', 'City': '123 Redwood Ave', 'State': ' Austin', 'abbrevation': 'TX', 'zipcode': '73301'}\n",
      "{'name': 'Mia martin', 'email': 'mia.martin@domain.com', 'phone_number': '(145) 678-91230', 'address': '456 Spruce St, Atlanta, GA 30301', 'City': '456 Spruce St', 'State': ' Atlanta', 'abbrevation': 'GA', 'zipcode': '30301'}\n",
      "{'name': 'Emily davis', 'email': 'emily.davis@sample.com', 'phone_number': '(987) 654-3210', 'address': '789 Pine St, Chicago, IL 60601', 'City': '789 Pine St', 'State': ' Chicago', 'abbrevation': 'IL', 'zipcode': '60601'}\n",
      "{'name': 'John doe', 'email': 'john@example.com', 'phone_number': '(112) 345-67890', 'address': '123 Main St, New York, NY 10001', 'City': '123 Main St', 'State': ' New York', 'abbrevation': 'NY', 'zipcode': '10001'}\n",
      "{'name': 'Michael brown', 'email': 'michael_brown@domain.com', 'phone_number': '(987) 654-3210', 'address': '101 Oak St, Houston, TX 77001', 'City': '101 Oak St', 'State': ' Houston', 'abbrevation': 'TX', 'zipcode': '77001'}\n",
      "{'name': 'Jane smith', 'email': 'jane.smith@email.com', 'phone_number': '(123) 456-7890', 'address': '456 Elm St, Los Angeles, CA 90001', 'City': '456 Elm St', 'State': ' Los Angeles', 'abbrevation': 'CA', 'zipcode': '90001'}\n",
      "{'name': 'Anna taylor', 'email': 'annataylor@example.org', 'phone_number': '(456) 789-1234', 'address': '202 Maple St, Phoenix, AZ 85001', 'City': '202 Maple St', 'State': ' Phoenix', 'abbrevation': 'AZ', 'zipcode': '85001'}\n",
      "{'name': 'Chris green', 'email': 'chris.green@domain.com', 'phone_number': '(145) 678-91234', 'address': '303 Birch St, Miami, FL 33101', 'City': '303 Birch St', 'State': ' Miami', 'abbrevation': 'FL', 'zipcode': '33101'}\n",
      "{'name': 'Michael brown', 'email': 'michael_brown@domain.com', 'phone_number': '(987) 654-3210', 'address': '101 Oak St, Houston, TX 77001', 'City': '101 Oak St', 'State': ' Houston', 'abbrevation': 'TX', 'zipcode': '77001'}\n"
     ]
    }
   ],
   "source": [
    "def address_method(address):\n",
    "    temp_data=address.split(',')\n",
    "    l2=temp_data[2].split(' ')\n",
    "    temp_data=temp_data[:2]\n",
    "    for i in range(1,3):\n",
    "        temp_data.append(l2[i])\n",
    "    return temp_data\n",
    "d=['City','State','abbrevation','zipcode']\n",
    "for i in uniq_data:\n",
    "    d2=dict(zip(d,address_method(i['address'])))\n",
    "    i.update(d2)\n",
    "for i in uniq_data:\n",
    "    print(i)"
   ]
  },
  {
   "cell_type": "code",
   "execution_count": 15,
   "id": "098cab65-9772-48b4-b836-a92d750bbb01",
   "metadata": {},
   "outputs": [],
   "source": [
    "import json\n",
    "with open(\"filterd_data.json\", \"w\") as file:\n",
    "    json.dump(filterd_data, file, indent=6)   # dumped the data into json file."
   ]
  },
  {
   "cell_type": "code",
   "execution_count": null,
   "id": "8f278ac8-33e4-40c4-9fa2-c41859434aa6",
   "metadata": {},
   "outputs": [],
   "source": []
  }
 ],
 "metadata": {
  "kernelspec": {
   "display_name": "Python 3 (ipykernel)",
   "language": "python",
   "name": "python3"
  },
  "language_info": {
   "codemirror_mode": {
    "name": "ipython",
    "version": 3
   },
   "file_extension": ".py",
   "mimetype": "text/x-python",
   "name": "python",
   "nbconvert_exporter": "python",
   "pygments_lexer": "ipython3",
   "version": "3.12.4"
  }
 },
 "nbformat": 4,
 "nbformat_minor": 5
}
